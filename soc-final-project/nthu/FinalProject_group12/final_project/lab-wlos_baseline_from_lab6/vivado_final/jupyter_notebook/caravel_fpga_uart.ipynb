{
 "cells": [
  {
   "cell_type": "code",
   "execution_count": 1,
   "metadata": {},
   "outputs": [
    {
     "data": {
      "application/javascript": [
       "\n",
       "try {\n",
       "require(['notebook/js/codecell'], function(codecell) {\n",
       "  codecell.CodeCell.options_default.highlight_modes[\n",
       "      'magic_text/x-csrc'] = {'reg':[/^%%microblaze/]};\n",
       "  Jupyter.notebook.events.one('kernel_ready.Kernel', function(){\n",
       "      Jupyter.notebook.get_cells().map(function(cell){\n",
       "          if (cell.cell_type == 'code'){ cell.auto_highlight(); } }) ;\n",
       "  });\n",
       "});\n",
       "} catch (e) {};\n"
      ]
     },
     "metadata": {},
     "output_type": "display_data"
    },
    {
     "data": {
      "application/javascript": [
       "\n",
       "try {\n",
       "require(['notebook/js/codecell'], function(codecell) {\n",
       "  codecell.CodeCell.options_default.highlight_modes[\n",
       "      'magic_text/x-csrc'] = {'reg':[/^%%pybind11/]};\n",
       "  Jupyter.notebook.events.one('kernel_ready.Kernel', function(){\n",
       "      Jupyter.notebook.get_cells().map(function(cell){\n",
       "          if (cell.cell_type == 'code'){ cell.auto_highlight(); } }) ;\n",
       "  });\n",
       "});\n",
       "} catch (e) {};\n"
      ]
     },
     "metadata": {},
     "output_type": "display_data"
    }
   ],
   "source": [
    "from __future__ import print_function\n",
    "\n",
    "import sys\n",
    "import numpy as np\n",
    "from time import time\n",
    "import matplotlib.pyplot as plt \n",
    "\n",
    "sys.path.append('/home/xilinx')\n",
    "from pynq import Overlay\n",
    "from pynq import allocate\n",
    "\n",
    "from uartlite import *\n",
    "\n",
    "import multiprocessing\n",
    "\n",
    "# For sharing string variable\n",
    "from multiprocessing import Process,Manager,Value\n",
    "from ctypes import c_char_p\n",
    "\n",
    "import asyncio\n",
    "\n",
    "ROM_SIZE = 0x2000 #8K"
   ]
  },
  {
   "cell_type": "code",
   "execution_count": 2,
   "metadata": {
    "scrolled": true
   },
   "outputs": [],
   "source": [
    "ol = Overlay(\"caravel_fpga.bit\")\n",
    "#ol.ip_dict"
   ]
  },
  {
   "cell_type": "code",
   "execution_count": 3,
   "metadata": {},
   "outputs": [],
   "source": [
    "ipOUTPIN = ol.output_pin_0\n",
    "ipPS = ol.caravel_ps_0\n",
    "ipReadROMCODE = ol.read_romcode_0\n",
    "ipUart = ol.axi_uartlite_0"
   ]
  },
  {
   "cell_type": "code",
   "execution_count": 4,
   "metadata": {},
   "outputs": [
    {
     "data": {
      "application/json": {
       "axi_intc_0/intr": {
        "controller": "axi_intc_0",
        "fullpath": "axi_intc_0/intr",
        "index": 0
       },
       "axi_uartlite_0/interrupt": {
        "controller": "axi_intc_0",
        "fullpath": "axi_uartlite_0/interrupt",
        "index": 0
       }
      },
      "text/plain": [
       "{'axi_intc_0/intr': {'controller': 'axi_intc_0',\n",
       "  'index': 0,\n",
       "  'fullpath': 'axi_intc_0/intr'},\n",
       " 'axi_uartlite_0/interrupt': {'controller': 'axi_intc_0',\n",
       "  'index': 0,\n",
       "  'fullpath': 'axi_uartlite_0/interrupt'}}"
      ]
     },
     "execution_count": 4,
     "metadata": {
      "application/json": {
       "expanded": false,
       "root": "interrupt_pins"
      }
     },
     "output_type": "execute_result"
    }
   ],
   "source": [
    "ol.interrupt_pins"
   ]
  },
  {
   "cell_type": "code",
   "execution_count": 5,
   "metadata": {},
   "outputs": [],
   "source": [
    "# See what interrupts are in the system\n",
    "#ol.interrupt_pins\n",
    "\n",
    "# Each IP instances has a _interrupts dictionary which lists the names of the interrupts\n",
    "#ipUart._interrupts\n",
    "\n",
    "# The interrupts object can then be accessed by its name\n",
    "# The Interrupt class provides a single function wait \n",
    "# which is an asyncio coroutine that returns when the interrupt is signalled.\n",
    "intUart = ipUart.interrupt"
   ]
  },
  {
   "cell_type": "code",
   "execution_count": 6,
   "metadata": {
    "scrolled": true
   },
   "outputs": [],
   "source": [
    "# Create np with 8K/4 (4 bytes per index) size and be initiled to 0\n",
    "rom_size_final = 0\n",
    "\n",
    "npROM = np.zeros(ROM_SIZE >> 2, dtype=np.uint32)\n",
    "npROM_index = 0\n",
    "npROM_offset = 0\n",
    "fiROM = open(\"uart.hex\", \"r+\")\n",
    "#fiROM = open(\"counter_wb.hex\", \"r+\")\n",
    "\n",
    "for line in fiROM:\n",
    "    # offset header\n",
    "    if line.startswith('@'):\n",
    "        # Ignore first char @\n",
    "        npROM_offset = int(line[1:].strip(b'\\x00'.decode()), base = 16)\n",
    "        npROM_offset = npROM_offset >> 2 # 4byte per offset\n",
    "        #print (npROM_offset)\n",
    "        npROM_index = 0\n",
    "        continue\n",
    "    #print (line)\n",
    "\n",
    "    # We suppose the data must be 32bit alignment\n",
    "    buffer = 0\n",
    "    bytecount = 0\n",
    "    for line_byte in line.strip(b'\\x00'.decode()).split():\n",
    "        buffer += int(line_byte, base = 16) << (8 * bytecount)\n",
    "        bytecount += 1\n",
    "        # Collect 4 bytes, write to npROM\n",
    "        if(bytecount == 4):\n",
    "            npROM[npROM_offset + npROM_index] = buffer\n",
    "            # Clear buffer and bytecount\n",
    "            buffer = 0\n",
    "            bytecount = 0\n",
    "            npROM_index += 1\n",
    "            #print (npROM_index)\n",
    "            continue\n",
    "    # Fill rest data if not alignment 4 bytes\n",
    "    if (bytecount != 0):\n",
    "        npROM[npROM_offset + npROM_index] = buffer\n",
    "        npROM_index += 1\n",
    "    \n",
    "fiROM.close()\n",
    "\n",
    "rom_size_final = npROM_offset + npROM_index\n",
    "#print (rom_size_final)\n",
    "\n",
    "#for data in npROM:\n",
    "#    print (hex(data))\n"
   ]
  },
  {
   "cell_type": "code",
   "execution_count": 7,
   "metadata": {
    "scrolled": false
   },
   "outputs": [
    {
     "name": "stdout",
     "output_type": "stream",
     "text": [
      "Write to bram done\n"
     ]
    }
   ],
   "source": [
    "# Allocate dram buffer will assign physical address to ip ipReadROMCODE\n",
    "\n",
    "#rom_buffer = allocate(shape=(ROM_SIZE >> 2,), dtype=np.uint32)\n",
    "rom_buffer = allocate(shape=(rom_size_final,), dtype=np.uint32)\n",
    "\n",
    "# Initial it by npROM\n",
    "#for index in range (ROM_SIZE >> 2):\n",
    "for index in range (rom_size_final):\n",
    "    rom_buffer[index] = npROM[index]\n",
    "    \n",
    "#for index in range (ROM_SIZE >> 2):\n",
    "#    print (\"0x{0:08x}\".format(rom_buffer[index]))\n",
    "\n",
    "# Program physical address for the romcode base address\n",
    "\n",
    "\n",
    "# 0x00 : Control signals\n",
    "#        bit 0  - ap_start (Read/Write/COH)\n",
    "#        bit 1  - ap_done (Read/COR)\n",
    "#        bit 2  - ap_idle (Read)\n",
    "#        bit 3  - ap_ready (Read)\n",
    "#        bit 7  - auto_restart (Read/Write)\n",
    "#        others - reserved\n",
    "# 0x10 : Data signal of romcode\n",
    "#        bit 31~0 - romcode[31:0] (Read/Write)\n",
    "# 0x14 : Data signal of romcode\n",
    "#        bit 31~0 - romcode[63:32] (Read/Write)\n",
    "# 0x1c : Data signal of length_r\n",
    "#        bit 31~0 - length_r[31:0] (Read/Write)\n",
    "\n",
    "ipReadROMCODE.write(0x10, rom_buffer.device_address)\n",
    "ipReadROMCODE.write(0x1C, rom_size_final)\n",
    "\n",
    "ipReadROMCODE.write(0x14, 0)\n",
    "\n",
    "# ipReadROMCODE start to move the data from rom_buffer to bram\n",
    "ipReadROMCODE.write(0x00, 1) # IP Start\n",
    "while (ipReadROMCODE.read(0x00) & 0x04) == 0x00: # wait for done\n",
    "    continue\n",
    "    \n",
    "print(\"Write to bram done\")\n"
   ]
  },
  {
   "cell_type": "code",
   "execution_count": 8,
   "metadata": {
    "scrolled": true
   },
   "outputs": [
    {
     "data": {
      "text/plain": [
       "{'RX_VALID': 0,\n",
       " 'RX_FULL': 0,\n",
       " 'TX_EMPTY': 1,\n",
       " 'TX_FULL': 0,\n",
       " 'IS_INTR': 0,\n",
       " 'OVERRUN_ERR': 0,\n",
       " 'FRAME_ERR': 0,\n",
       " 'PARITY_ERR': 0}"
      ]
     },
     "execution_count": 8,
     "metadata": {},
     "output_type": "execute_result"
    }
   ],
   "source": [
    "# Initialize AXI UART\n",
    "uart = UartAXI(ipUart.mmio.base_addr)\n",
    "\n",
    "# Setup AXI UART register\n",
    "uart.setupCtrlReg()\n",
    "\n",
    "# Get current UART status\n",
    "uart.currentStatus()"
   ]
  },
  {
   "cell_type": "code",
   "execution_count": 9,
   "metadata": {},
   "outputs": [],
   "source": [
    "async def uart_rxtx():\n",
    "    # Reset FIFOs, enable interrupts\n",
    "    ipUart.write(CTRL_REG, 1<<RST_TX | 1<<RST_RX | 1<<INTR_EN)\n",
    "    print(\"Waitting for interrupt\")\n",
    "    tx_str = \"hello\\n\"\n",
    "    ############################## Added by us ##############################\n",
    "    latency_timer1_start=time()\n",
    "    #########################################################################\n",
    "    ipUart.write(TX_FIFO, ord(tx_str[0]))\n",
    "    i = 1\n",
    "    while(True):\n",
    "        await intUart.wait()\n",
    "        buf = \"\"\n",
    "        # Read FIFO until valid bit is clear\n",
    "        while ((ipUart.read(STAT_REG) & (1<<RX_VALID))):\n",
    "            buf += chr(ipUart.read(RX_FIFO))\n",
    "            if i<len(tx_str):\n",
    "                ipUart.write(TX_FIFO, ord(tx_str[i]))\n",
    "                i=i+1\n",
    "        ############################## Added by us ##############################\n",
    "        latency_timer1_end=time()\n",
    "        #########################################################################\n",
    "        print(buf, end='')\n",
    "        ############################## Added by us ##############################\n",
    "        print('\\nNotebook received \"'+buf+'\", the same string as what we sent, and the latency for this string using UART = ', latency_timer1_end-latency_timer1_start,\" (s).\")\n",
    "        #########################################################################\n",
    "        \n",
    "############################## Added by us ##############################\n",
    "async def uart_rxtx_for_only_one_char():\n",
    "    # Reset FIFOs, enable interrupts\n",
    "    ipUart.write(CTRL_REG, 1<<RST_TX | 1<<RST_RX | 1<<INTR_EN)\n",
    "    print(\"Waitting for interrupt\")\n",
    "    tx_str = \"s\"\n",
    "    buf = \"\"\n",
    "    \n",
    "    latency_timer_start=time()\n",
    "    \n",
    "    ipUart.write(TX_FIFO, ord(tx_str[0]))\n",
    "    await intUart.wait()\n",
    "    buf = chr(ipUart.read(RX_FIFO))\n",
    "    \n",
    "    latency_timer_end=time()\n",
    "    \n",
    "    \n",
    "    print(\"\\nNotebook received '\"+buf+\"', the same character as what we sent, and the latency for one character loop-back using UART = \", latency_timer_end-latency_timer_start,\" (s).\")\n",
    "        \n",
    "#########################################################################\n",
    "        \n",
    "async def caravel_start():\n",
    "    ipOUTPIN.write(0x10, 0)\n",
    "    print(\"Start Caravel Soc\")\n",
    "    ipOUTPIN.write(0x10, 1)\n",
    "    ############################## Added by us ##############################\n",
    "    #check_number=0\n",
    "    ###for n in range(1, 100):\n",
    "    ###    print (\"0x1c = \", hex(ipPS.read(0x1c)))\n",
    "    \n",
    "    while ((ipPS.read(0x1c)>>16) != 0xab40):\n",
    "        continue\n",
    "    # Because print() function takes a lot of time to execute (resulting in missing mprj_io code), we cannot print the information here, and we will print all the information together at last.\n",
    "    ###print(\"Info: Start matrix multiplication test...\") \n",
    "    \n",
    "#    while ((ipPS.read(0x1c)>>16) != 0x003e):\n",
    "#        continue\n",
    "    ###print(\"Call function matmul() in User Project BRAM (mprjram, 0x38000000) return value passed, 0x003e, which is 62 in decimal\")\n",
    "    #check_number=1\n",
    "    \n",
    "    while ((ipPS.read(0x1c)>>16) != 0x0044):\n",
    "        continue\n",
    "    ###print(\"Call function matmul() in User Project BRAM (mprjram, 0x38000000) return value passed, 0x0044, which is 68 in decimal\")\n",
    "    #check_number=2\n",
    "    \n",
    "#    while ((ipPS.read(0x1c)>>16) != 0x004a):\n",
    "#        continue\n",
    "    ###print(\"Call function matmul() in User Project BRAM (mprjram, 0x38000000) return value passed, 0x004a, which is 74 in decimal\")\n",
    "    #check_number=3\n",
    "    \n",
    "    while ((ipPS.read(0x1c)>>16) != 0x0050):\n",
    "        continue\n",
    "    ###print(\"Call function matmul() in User Project BRAM (mprjram, 0x38000000) return value passed, 0x0050, which is 80 in decimal\")\n",
    "    #check_number=4\n",
    "    \n",
    "    while ((ipPS.read(0x1c)>>16) != 0xab51):\n",
    "        continue\n",
    "    ###print(\"Success: Matrix multiplication test passed ♪\")\n",
    "    \n",
    "    ###print(\"Info: Start Q sort test...\")\n",
    "    #print (\"0x1c = \", (ipPS.read(0x1c)>>16) == 43857)\n",
    "    # Using decimal to do value comparison is too slow (?)\n",
    "#    while ((ipPS.read(0x1c)>>16) != 40):\n",
    "#    while ((ipPS.read(0x1c)>>16) != 0x0028):\n",
    "#        continue\n",
    "    ###print(\"Call function qsort() in User Project BRAM (mprjram, 0x38000000) return value passed, 0x0028, which is 40 in decimal\")\n",
    "    #check_number=5\n",
    "    \n",
    "###    while ((ipPS.read(0x1c)>>16) != 893):\n",
    "#    while ((ipPS.read(0x1c)>>16) != 0x037d):\n",
    "###        continue\n",
    "    ###print(\"Call function qsort() in User Project BRAM (mprjram, 0x38000000) return value passed, 0x037d, which is 893 in decimal\")\n",
    "    #check_number=6\n",
    "    \n",
    "    while ((ipPS.read(0x1c)>>16) != 2541):\n",
    "#    while ((ipPS.read(0x1c)>>16) != 0x09ed):\n",
    "        continue\n",
    "    ###print(\"Call function qsort() in User Project BRAM (mprjram, 0x38000000) return value passed, 0x09ed, which is 2541 in decimal\")\n",
    "    #check_number=7\n",
    "    \n",
    "#    while ((ipPS.read(0x1c)>>16) != 2669):\n",
    "#    while ((ipPS.read(0x1c)>>16) != 0x0a6d):\n",
    "#        continue\n",
    "    ###print(\"Call function qsort() in User Project BRAM (mprjram, 0x38000000) return value passed, 0x0a6d, which is 2669 in decimal\")\n",
    "    #check_number=8\n",
    "    \n",
    "    while ((ipPS.read(0x1c)>>16) != 6023):\n",
    "        continue\n",
    "    ###print(\"Call function qsort() in User Project BRAM (mprjram, 0x38000000) return value passed, 0x1787, which is 6023 in decimal\")\n",
    "    \n",
    "    while ((ipPS.read(0x1c)>>16) != 0xab52):\n",
    "        continue\n",
    "    ###print(\"Success: Q sort test passed ♪\")\n",
    "    \n",
    "    ###print(\"Info: Start FIR test...\")\n",
    "#    while ((ipPS.read(0x1c)>>16) != 1098):\n",
    "    #while ((ipPS.read(0x1c) & 0xffff0000) != 0x044a0000):\n",
    "#        continue\n",
    "    ###print(\"Call function fir() in User Project BRAM (mprjram, 0x38000000) return value passed, 0x044a, which is 1098 in decimal\")\n",
    "    #check_number=9\n",
    "    \n",
    "    while ((ipPS.read(0x1c) & 0xffff0000) != 0xffe70000):\n",
    "        continue\n",
    "    ###print(\"Call function fir() in User Project BRAM (mprjram, 0x38000000) return value passed, 0xffe7, which is -25 in decimal\")\n",
    "    \n",
    "    while ((ipPS.read(0x1c)>>16) != 732):\n",
    "        continue\n",
    "    ###print(\"Call function fir() in User Project BRAM (mprjram, 0x38000000) return value passed, 0x02dc, which is 732 in decimal\")\n",
    "    \n",
    "    while ((ipPS.read(0x1c)>>16) != 0xab60):\n",
    "        continue\n",
    "    ###print(\"Success: FIR test passed ♪\")\n",
    "    \n",
    "    print(\"Successfully start matrix multiplication test (checkbits = 0xAB40)\")\n",
    "    #####print(\"Call function matmul() in User Project BRAM (mprjram, 0x38000000) return value passed, 0x003e, which is 62 in decimal\")\n",
    "    print(\"Call function matmul() in User Project BRAM (mprjram, 0x38000000) return value passed, 0x0044, which is 68 in decimal\")\n",
    "    #####print(\"Call function matmul() in User Project BRAM (mprjram, 0x38000000) return value passed, 0x004a, which is 74 in decimal\")\n",
    "    print(\"Call function matmul() in User Project BRAM (mprjram, 0x38000000) return value passed, 0x0050, which is 80 in decimal\")\n",
    "    print(\"Success: Matrix multiplication test passed ♪ (checkbits = 0xAB51)\") \n",
    "    print(\"Successfully start Q sort test (checkbits = 0xAB51)\")\n",
    "    #####print(\"Call function qsort() in User Project BRAM (mprjram, 0x38000000) return value passed, 0x0028, which is 40 in decimal\")\n",
    "    #####print(\"Call function qsort() in User Project BRAM (mprjram, 0x38000000) return value passed, 0x037d, which is 893 in decimal\")\n",
    "    print(\"Call function qsort() in User Project BRAM (mprjram, 0x38000000) return value passed, 0x09ed, which is 2541 in decimal\")\n",
    "    #####print(\"Call function qsort() in User Project BRAM (mprjram, 0x38000000) return value passed, 0x0a6d, which is 2669 in decimal\")\n",
    "    print(\"Call function qsort() in User Project BRAM (mprjram, 0x38000000) return value passed, 0x1787, which is 6023 in decimal\")\n",
    "    print(\"Success: Q sort test passed ♪ (checkbits = 0xAB52)\")\n",
    "    print(\"Successfully start FIR test (checkbits = 0xAB52)\")\n",
    "    #####print(\"Call function fir() in User Project BRAM (mprjram, 0x38000000) return value passed, 0x044a, which is 1098 in decimal\")\n",
    "    print(\"Call function fir() in User Project BRAM (mprjram, 0x38000000) return value passed, 0xffe7, which is -25 in decimal\")\n",
    "    print(\"Call function fir() in User Project BRAM (mprjram, 0x38000000) return value passed, 0x02dc, which is 732 in decimal\")\n",
    "    print(\"Success: FIR test passed ♪ (checkbits = 0xAB60)\")\n",
    "    #########################################################################\n",
    "    \n",
    "############################## Added by us ##############################\n",
    "###async def check_matrix_multiplication():\n",
    "###    #print(\"Start check_matrix_multiplication()\")\n",
    "###    for n in range(1, 100):\n",
    "###        print (\"0x1c = \", hex(ipPS.read(0x1c)))\n",
    "###    while ((ipPS.read(0x1c)>>16) != 0xab51):\n",
    "###        continue\n",
    "###    print(\"Success: Matrix multiplication test passed ♪\")\n",
    "#########################################################################\n",
    "\n",
    "# Python 3.5+\n",
    "#tasks = [ # Create a task list\n",
    "#    asyncio.ensure_future(example1()),\n",
    "#    asyncio.ensure_future(example2()),\n",
    "#]\n",
    "# To test this we need to use the asyncio library to schedule our new coroutine. \n",
    "# asyncio uses event loops to execute coroutines. \n",
    "# When python starts it will create a default event loop \n",
    "# which is what the PYNQ interrupt subsystem uses to handle interrupts\n",
    "\n",
    "#loop = asyncio.get_event_loop()\n",
    "#loop.run_until_complete(asyncio.wait(tasks))\n",
    "\n",
    "# Python 3.7+\n",
    "async def async_main(): \n",
    "    task2 = asyncio.create_task(caravel_start()) \n",
    "    ############################## Added by us ##############################\n",
    "    #await asyncio.sleep(1)\n",
    "    ###task3 = asyncio.create_task(check_matrix_multiplication())\n",
    "    #####task1 = asyncio.create_task(uart_rxtx_for_only_one_char())\n",
    "    #########################################################################\n",
    "    task1 = asyncio.create_task(uart_rxtx()) \n",
    "    # Wait for 5 second\n",
    "    await asyncio.sleep(10)\n",
    "    task1.cancel()\n",
    "    try:\n",
    "        await task1\n",
    "    except asyncio.CancelledError:\n",
    "        print('main(): uart_rx is cancelled now')"
   ]
  },
  {
   "cell_type": "code",
   "execution_count": 10,
   "metadata": {},
   "outputs": [
    {
     "name": "stdout",
     "output_type": "stream",
     "text": [
      "Start Caravel Soc\n",
      "Successfully start matrix multiplication test (checkbits = 0xAB40)\n",
      "Call function matmul() in User Project BRAM (mprjram, 0x38000000) return value passed, 0x0044, which is 68 in decimal\n",
      "Call function matmul() in User Project BRAM (mprjram, 0x38000000) return value passed, 0x0050, which is 80 in decimal\n",
      "Success: Matrix multiplication test passed ♪ (checkbits = 0xAB51)\n",
      "Successfully start Q sort test (checkbits = 0xAB51)\n",
      "Call function qsort() in User Project BRAM (mprjram, 0x38000000) return value passed, 0x09ed, which is 2541 in decimal\n",
      "Call function qsort() in User Project BRAM (mprjram, 0x38000000) return value passed, 0x1787, which is 6023 in decimal\n",
      "Success: Q sort test passed ♪ (checkbits = 0xAB52)\n",
      "Successfully start FIR test (checkbits = 0xAB52)\n",
      "Call function fir() in User Project BRAM (mprjram, 0x38000000) return value passed, 0xffe7, which is -25 in decimal\n",
      "Call function fir() in User Project BRAM (mprjram, 0x38000000) return value passed, 0x02dc, which is 732 in decimal\n",
      "Success: FIR test passed ♪ (checkbits = 0xAB60)\n",
      "Waitting for interrupt\n",
      "\n",
      "Notebook received \"\", the same string as what we sent, and the latency for this string using UART =  0.00162506103515625  (s).\n",
      "h\n",
      "Notebook received \"h\", the same string as what we sent, and the latency for this string using UART =  0.007600069046020508  (s).\n",
      "e\n",
      "Notebook received \"e\", the same string as what we sent, and the latency for this string using UART =  0.013179302215576172  (s).\n",
      "l\n",
      "Notebook received \"l\", the same string as what we sent, and the latency for this string using UART =  0.018865346908569336  (s).\n",
      "\n",
      "Notebook received \"\", the same string as what we sent, and the latency for this string using UART =  0.020744800567626953  (s).\n",
      "l\n",
      "Notebook received \"l\", the same string as what we sent, and the latency for this string using UART =  0.02974081039428711  (s).\n",
      "\n",
      "Notebook received \"\", the same string as what we sent, and the latency for this string using UART =  0.031629323959350586  (s).\n",
      "o\n",
      "Notebook received \"o\", the same string as what we sent, and the latency for this string using UART =  0.03348278999328613  (s).\n",
      "\n",
      "\n",
      "Notebook received \"\n",
      "\", the same string as what we sent, and the latency for this string using UART =  0.043314218521118164  (s).\n",
      "main(): uart_rx is cancelled now\n"
     ]
    }
   ],
   "source": [
    "asyncio.run(async_main()) "
   ]
  },
  {
   "cell_type": "code",
   "execution_count": 11,
   "metadata": {},
   "outputs": [
    {
     "name": "stdout",
     "output_type": "stream",
     "text": [
      "0x10 =  0x0\n",
      "0x14 =  0x0\n",
      "0x1c =  0xab610040\n",
      "0x20 =  0x0\n",
      "0x34 =  0x20\n",
      "0x38 =  0x3f\n"
     ]
    }
   ],
   "source": [
    "print (\"0x10 = \", hex(ipPS.read(0x10)))\n",
    "print (\"0x14 = \", hex(ipPS.read(0x14)))\n",
    "print (\"0x1c = \", hex(ipPS.read(0x1c)))\n",
    "print (\"0x20 = \", hex(ipPS.read(0x20)))\n",
    "print (\"0x34 = \", hex(ipPS.read(0x34)))\n",
    "print (\"0x38 = \", hex(ipPS.read(0x38)))"
   ]
  },
  {
   "cell_type": "code",
   "execution_count": null,
   "metadata": {},
   "outputs": [],
   "source": []
  }
 ],
 "metadata": {
  "kernelspec": {
   "display_name": "Python 3",
   "language": "python",
   "name": "python3"
  },
  "language_info": {
   "codemirror_mode": {
    "name": "ipython",
    "version": 3
   },
   "file_extension": ".py",
   "mimetype": "text/x-python",
   "name": "python",
   "nbconvert_exporter": "python",
   "pygments_lexer": "ipython3",
   "version": "3.8.2"
  }
 },
 "nbformat": 4,
 "nbformat_minor": 2
}
