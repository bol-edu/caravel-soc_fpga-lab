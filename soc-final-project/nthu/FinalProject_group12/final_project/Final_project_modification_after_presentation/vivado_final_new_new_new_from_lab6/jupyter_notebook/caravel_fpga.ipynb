{
 "cells": [
  {
   "cell_type": "code",
   "execution_count": 1,
   "metadata": {},
   "outputs": [
    {
     "data": {
      "application/javascript": [
       "\n",
       "try {\n",
       "require(['notebook/js/codecell'], function(codecell) {\n",
       "  codecell.CodeCell.options_default.highlight_modes[\n",
       "      'magic_text/x-csrc'] = {'reg':[/^%%microblaze/]};\n",
       "  Jupyter.notebook.events.one('kernel_ready.Kernel', function(){\n",
       "      Jupyter.notebook.get_cells().map(function(cell){\n",
       "          if (cell.cell_type == 'code'){ cell.auto_highlight(); } }) ;\n",
       "  });\n",
       "});\n",
       "} catch (e) {};\n"
      ]
     },
     "metadata": {},
     "output_type": "display_data"
    },
    {
     "data": {
      "application/javascript": [
       "\n",
       "try {\n",
       "require(['notebook/js/codecell'], function(codecell) {\n",
       "  codecell.CodeCell.options_default.highlight_modes[\n",
       "      'magic_text/x-csrc'] = {'reg':[/^%%pybind11/]};\n",
       "  Jupyter.notebook.events.one('kernel_ready.Kernel', function(){\n",
       "      Jupyter.notebook.get_cells().map(function(cell){\n",
       "          if (cell.cell_type == 'code'){ cell.auto_highlight(); } }) ;\n",
       "  });\n",
       "});\n",
       "} catch (e) {};\n"
      ]
     },
     "metadata": {},
     "output_type": "display_data"
    }
   ],
   "source": [
    "from __future__ import print_function\n",
    "\n",
    "import sys\n",
    "import numpy as np\n",
    "from time import time\n",
    "import matplotlib.pyplot as plt \n",
    "\n",
    "sys.path.append('/home/xilinx')\n",
    "from pynq import Overlay\n",
    "from pynq import allocate\n",
    "\n",
    "ROM_SIZE = 0x2000 #8K"
   ]
  },
  {
   "cell_type": "code",
   "execution_count": 2,
   "metadata": {
    "scrolled": true
   },
   "outputs": [],
   "source": [
    "ol = Overlay(\"caravel_fpga.bit\")\n",
    "#ol.ip_dict"
   ]
  },
  {
   "cell_type": "code",
   "execution_count": 3,
   "metadata": {},
   "outputs": [],
   "source": [
    "ipOUTPIN = ol.output_pin_0\n",
    "ipPS = ol.caravel_ps_0\n",
    "ipReadROMCODE = ol.read_romcode_0"
   ]
  },
  {
   "cell_type": "code",
   "execution_count": 4,
   "metadata": {
    "scrolled": true
   },
   "outputs": [],
   "source": [
    "# Create np with 8K/4 (4 bytes per index) size and be initiled to 0\n",
    "rom_size_final = 0\n",
    "\n",
    "# Allocate dram buffer will assign physical address to ip ipReadROMCODE\n",
    "npROM = allocate(shape=(ROM_SIZE >> 2,), dtype=np.uint32)\n",
    "\n",
    "# Initial it by 0\n",
    "for index in range (ROM_SIZE >> 2):\n",
    "    npROM[index] = 0\n",
    "\n",
    "npROM_index = 0\n",
    "npROM_offset = 0\n",
    "fiROM = open(\"counter_la_final.hex\", \"r+\")\n",
    "\n",
    "for line in fiROM:\n",
    "    # offset header\n",
    "    if line.startswith('@'):\n",
    "        # Ignore first char @\n",
    "        npROM_offset = int(line[1:].strip(b'\\x00'.decode()), base = 16)\n",
    "        npROM_offset = npROM_offset >> 2 # 4byte per offset\n",
    "        #print (npROM_offset)\n",
    "        npROM_index = 0\n",
    "        continue\n",
    "    #print (line)\n",
    "\n",
    "    # We suppose the data must be 32bit alignment\n",
    "    buffer = 0\n",
    "    bytecount = 0\n",
    "    for line_byte in line.strip(b'\\x00'.decode()).split():\n",
    "        buffer += int(line_byte, base = 16) << (8 * bytecount)\n",
    "        bytecount += 1\n",
    "        # Collect 4 bytes, write to npROM\n",
    "        if(bytecount == 4):\n",
    "            npROM[npROM_offset + npROM_index] = buffer\n",
    "            # Clear buffer and bytecount\n",
    "            buffer = 0\n",
    "            bytecount = 0\n",
    "            npROM_index += 1\n",
    "            #print (npROM_index)\n",
    "            continue\n",
    "    # Fill rest data if not alignment 4 bytes\n",
    "    if (bytecount != 0):\n",
    "        npROM[npROM_offset + npROM_index] = buffer\n",
    "        npROM_index += 1\n",
    "    \n",
    "fiROM.close()\n",
    "\n",
    "rom_size_final = npROM_offset + npROM_index\n",
    "#print (rom_size_final)\n",
    "\n",
    "#for data in npROM:\n",
    "#    print (hex(data))"
   ]
  },
  {
   "cell_type": "code",
   "execution_count": 5,
   "metadata": {
    "scrolled": false
   },
   "outputs": [
    {
     "name": "stdout",
     "output_type": "stream",
     "text": [
      "Write to bram done\n"
     ]
    }
   ],
   "source": [
    "# 0x00 : Control signals\n",
    "#        bit 0  - ap_start (Read/Write/COH)\n",
    "#        bit 1  - ap_done (Read/COR)\n",
    "#        bit 2  - ap_idle (Read)\n",
    "#        bit 3  - ap_ready (Read)\n",
    "#        bit 7  - auto_restart (Read/Write)\n",
    "#        others - reserved\n",
    "# 0x10 : Data signal of romcode\n",
    "#        bit 31~0 - romcode[31:0] (Read/Write)\n",
    "# 0x14 : Data signal of romcode\n",
    "#        bit 31~0 - romcode[63:32] (Read/Write)\n",
    "# 0x1c : Data signal of length_r\n",
    "#        bit 31~0 - length_r[31:0] (Read/Write)\n",
    "\n",
    "# Program physical address for the romcode base address\n",
    "ipReadROMCODE.write(0x10, npROM.device_address)\n",
    "ipReadROMCODE.write(0x14, 0)\n",
    "# Program length of moving data\n",
    "ipReadROMCODE.write(0x1C, rom_size_final)\n",
    "\n",
    "\n",
    "# ipReadROMCODE start to move the data from rom_buffer to bram\n",
    "ipReadROMCODE.write(0x00, 1) # IP Start\n",
    "while (ipReadROMCODE.read(0x00) & 0x04) == 0x00: # wait for done\n",
    "    continue\n",
    "    \n",
    "print(\"Write to bram done\")\n"
   ]
  },
  {
   "cell_type": "code",
   "execution_count": 6,
   "metadata": {
    "scrolled": false
   },
   "outputs": [
    {
     "name": "stdout",
     "output_type": "stream",
     "text": [
      "0x10 =  0x0\n",
      "0x14 =  0x0\n",
      "0x1c =  0x8\n",
      "0x20 =  0x0\n",
      "0x34 =  0xfffffff7\n",
      "0x38 =  0x3f\n"
     ]
    }
   ],
   "source": [
    "# Check MPRJ_IO input/out/en\n",
    "# 0x10 : Data signal of ps_mprj_in\n",
    "#        bit 31~0 - ps_mprj_in[31:0] (Read/Write)\n",
    "# 0x14 : Data signal of ps_mprj_in\n",
    "#        bit 5~0 - ps_mprj_in[37:32] (Read/Write)\n",
    "#        others  - reserved\n",
    "# 0x1c : Data signal of ps_mprj_out\n",
    "#        bit 31~0 - ps_mprj_out[31:0] (Read)\n",
    "# 0x20 : Data signal of ps_mprj_out\n",
    "#        bit 5~0 - ps_mprj_out[37:32] (Read)\n",
    "#        others  - reserved\n",
    "# 0x34 : Data signal of ps_mprj_en\n",
    "#        bit 31~0 - ps_mprj_en[31:0] (Read)\n",
    "# 0x38 : Data signal of ps_mprj_en\n",
    "#        bit 5~0 - ps_mprj_en[37:32] (Read)\n",
    "#        others  - reserved\n",
    "\n",
    "print (\"0x10 = \", hex(ipPS.read(0x10)))\n",
    "print (\"0x14 = \", hex(ipPS.read(0x14)))\n",
    "print (\"0x1c = \", hex(ipPS.read(0x1c)))\n",
    "print (\"0x20 = \", hex(ipPS.read(0x20)))\n",
    "print (\"0x34 = \", hex(ipPS.read(0x34)))\n",
    "print (\"0x38 = \", hex(ipPS.read(0x38)))\n"
   ]
  },
  {
   "cell_type": "code",
   "execution_count": 7,
   "metadata": {
    "scrolled": true
   },
   "outputs": [
    {
     "name": "stdout",
     "output_type": "stream",
     "text": [
      "0\n",
      "1\n"
     ]
    }
   ],
   "source": [
    "# Release Caravel reset\n",
    "# 0x10 : Data signal of outpin_ctrl\n",
    "#        bit 0  - outpin_ctrl[0] (Read/Write)\n",
    "#        others - reserved\n",
    "print (ipOUTPIN.read(0x10))\n",
    "ipOUTPIN.write(0x10, 1)\n",
    "print (ipOUTPIN.read(0x10))"
   ]
  },
  {
   "cell_type": "code",
   "execution_count": 8,
   "metadata": {
    "scrolled": true
   },
   "outputs": [
    {
     "name": "stdout",
     "output_type": "stream",
     "text": [
      "0x10 =  0x0\n",
      "0x14 =  0x0\n",
      "0x1c =  0xab400000\n",
      "0x20 =  0x0\n",
      "0x34 =  0x0\n",
      "0x38 =  0x3f\n"
     ]
    }
   ],
   "source": [
    "############################## Added in final project ##############################\n",
    "# Because print() function takes a lot of time to execute (resulting in missing mprj_io code), we cannot print the information here, and we will print all the information together at last.\n",
    "#####while ((ipPS.read(0x1c)>>16) != 0xab40):\n",
    "#####        continue\n",
    "\n",
    "#####while ((ipPS.read(0x1c)>>16) != 0xab50):\n",
    "#####        continue\n",
    "\n",
    "#####while ((ipPS.read(0x1c)>>16) != 0xab52):\n",
    "#####        continue\n",
    "\n",
    "#####while ((ipPS.read(0x1c)>>16) != 0xab60):\n",
    "#####        continue\n",
    "\n",
    "#####print(\"Successfully start 'hardware_accelerator_initialization' function (detect checkbits = 0xAB40)\")\n",
    "#####print(\"\\n++++++++++ Step 1: FIR & MM hardware accelerator initialization ++++++++++\")\n",
    "#####print(\"Info: Detect check bits (16'hAB50) on reg_mprj_datal[31:16], hardware initialization finished!\")\n",
    "#####print(\"\\n++++++++++ Step 2: Start Q sort test (firmware) ++++++++++\")\n",
    "#####print(\"Success: Detect check bits (16'hAB52) on reg_mprj_datal[31:16], Q sort test passed ♪\")\n",
    "#####print(\"\\n++++++++++ Step 3: Check FIR & MM hardware accelerator results ++++++++++\")\n",
    "#####print(\"Success: Detect check bits (16'hAB60) on reg_mprj_datal[31:16], FIR & MM hardware accelerator test passed ♪\")\n",
    "\n",
    "#########################################################################\n",
    "\n",
    "\n",
    "# Check MPRJ_IO input/out/en\n",
    "# 0x10 : Data signal of ps_mprj_in\n",
    "#        bit 31~0 - ps_mprj_in[31:0] (Read/Write)\n",
    "# 0x14 : Data signal of ps_mprj_in\n",
    "#        bit 5~0 - ps_mprj_in[37:32] (Read/Write)\n",
    "#        others  - reserved\n",
    "# 0x1c : Data signal of ps_mprj_out\n",
    "#        bit 31~0 - ps_mprj_out[31:0] (Read)\n",
    "# 0x20 : Data signal of ps_mprj_out\n",
    "#        bit 5~0 - ps_mprj_out[37:32] (Read)\n",
    "#        others  - reserved\n",
    "# 0x34 : Data signal of ps_mprj_en\n",
    "#        bit 31~0 - ps_mprj_en[31:0] (Read)\n",
    "# 0x38 : Data signal of ps_mprj_en\n",
    "#        bit 5~0 - ps_mprj_en[37:32] (Read)\n",
    "#        others  - reserved\n",
    "\n",
    "print (\"0x10 = \", hex(ipPS.read(0x10)))\n",
    "print (\"0x14 = \", hex(ipPS.read(0x14)))\n",
    "print (\"0x1c = \", hex(ipPS.read(0x1c)))\n",
    "print (\"0x20 = \", hex(ipPS.read(0x20)))\n",
    "print (\"0x34 = \", hex(ipPS.read(0x34)))\n",
    "print (\"0x38 = \", hex(ipPS.read(0x38)))"
   ]
  },
  {
   "cell_type": "code",
   "execution_count": null,
   "metadata": {},
   "outputs": [],
   "source": []
  },
  {
   "cell_type": "code",
   "execution_count": null,
   "metadata": {},
   "outputs": [],
   "source": []
  }
 ],
 "metadata": {
  "kernelspec": {
   "display_name": "Python 3",
   "language": "python",
   "name": "python3"
  },
  "language_info": {
   "codemirror_mode": {
    "name": "ipython",
    "version": 3
   },
   "file_extension": ".py",
   "mimetype": "text/x-python",
   "name": "python",
   "nbconvert_exporter": "python",
   "pygments_lexer": "ipython3",
   "version": "3.8.2"
  }
 },
 "nbformat": 4,
 "nbformat_minor": 2
}
